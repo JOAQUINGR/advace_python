{
 "cells": [
  {
   "cell_type": "markdown",
   "metadata": {},
   "source": [
    "# Decoradores"
   ]
  },
  {
   "cell_type": "code",
   "execution_count": 2,
   "metadata": {},
   "outputs": [
    {
     "name": "stdout",
     "output_type": "stream",
     "text": [
      "esto es extra\n",
      "27\n",
      "otro extra\n",
      "esto es extra\n",
      "2\n",
      "otro extra\n"
     ]
    }
   ],
   "source": [
    "\"\"\"decorador: funcion que añade funciones a otras funciones , le añade decoradores \n",
    "\n",
    "don 3 funciones una funcion que devuelve a otra funcion, \"\"\"\n",
    "\n",
    "def funcion_dec(funcion_parametro):\n",
    "    \n",
    "    def funcion_interior():\n",
    "        \n",
    "        print(\"esto es extra\")\n",
    "        \n",
    "        funcion_parametro()\n",
    "        \n",
    "        print(\"otro extra\")\n",
    "        \n",
    "    return funcion_interior\n",
    "\n",
    "@funcion_dec\n",
    "def suma():\n",
    "    print(15+12)\n",
    "    \n",
    "@funcion_dec\n",
    "def resta():\n",
    "    print(4-2)\n",
    "\n",
    "suma()\n",
    "resta()"
   ]
  },
  {
   "cell_type": "markdown",
   "metadata": {},
   "source": [
    "# Iterators"
   ]
  },
  {
   "cell_type": "code",
   "execution_count": 15,
   "metadata": {},
   "outputs": [
    {
     "name": "stdout",
     "output_type": "stream",
     "text": [
      "1\n",
      "['__class__', '__delattr__', '__dir__', '__doc__', '__eq__', '__format__', '__ge__', '__getattribute__', '__gt__', '__hash__', '__init__', '__init_subclass__', '__iter__', '__le__', '__length_hint__', '__lt__', '__ne__', '__new__', '__next__', '__reduce__', '__reduce_ex__', '__repr__', '__setattr__', '__setstate__', '__sizeof__', '__str__', '__subclasshook__']\n"
     ]
    }
   ],
   "source": [
    "nums = [1,2,3]\n",
    "\n",
    "i_nums = iter(nums)\n",
    "\n",
    "print(next(i_nums))\n",
    "print(dir(i_nums))\n"
   ]
  },
  {
   "cell_type": "code",
   "execution_count": 8,
   "metadata": {},
   "outputs": [],
   "source": [
    "class Myrange:\n",
    "    \n",
    "    def __init__(self, start, end):\n",
    "        self.value = start\n",
    "        self.end = end \n",
    "        \n",
    "    def __iter__(self):\n",
    "        return self\n",
    "    \n",
    "    def __next__(self):\n",
    "        current = 0\n",
    "        if self.value > self.end:\n",
    "            raise StopIteration\n",
    "        current += self.value\n",
    "        self.value += 1\n",
    "        return current\n",
    "    \n",
    "hey = Myrange(100,120)\n",
    "nums_range = []\n",
    "for i in hey:\n",
    "    nums_range.append(i)\n",
    "\n",
    "        "
   ]
  },
  {
   "cell_type": "markdown",
   "metadata": {},
   "source": [
    "# Itertools package"
   ]
  },
  {
   "cell_type": "code",
   "execution_count": null,
   "metadata": {},
   "outputs": [],
   "source": [
    "import itertools"
   ]
  },
  {
   "cell_type": "code",
   "execution_count": 25,
   "metadata": {},
   "outputs": [
    {
     "data": {
      "text/plain": [
       "['__doc__',\n",
       " '__loader__',\n",
       " '__name__',\n",
       " '__package__',\n",
       " '__spec__',\n",
       " '_grouper',\n",
       " '_tee',\n",
       " '_tee_dataobject',\n",
       " 'accumulate',\n",
       " 'chain',\n",
       " 'combinations',\n",
       " 'combinations_with_replacement',\n",
       " 'compress',\n",
       " 'count',\n",
       " 'cycle',\n",
       " 'dropwhile',\n",
       " 'filterfalse',\n",
       " 'groupby',\n",
       " 'islice',\n",
       " 'permutations',\n",
       " 'product',\n",
       " 'repeat',\n",
       " 'starmap',\n",
       " 'takewhile',\n",
       " 'tee',\n",
       " 'zip_longest']"
      ]
     },
     "execution_count": 25,
     "metadata": {},
     "output_type": "execute_result"
    }
   ],
   "source": [
    "dir(itertools)"
   ]
  },
  {
   "cell_type": "code",
   "execution_count": 26,
   "metadata": {},
   "outputs": [
    {
     "name": "stdout",
     "output_type": "stream",
     "text": [
      "[100, 101, 102, 103, 104, 105, 106, 107, 108, 109, 110, 111, 112, 113, 114, 115, 116, 117, 118, 119, 120]\n",
      "[(5, 100), (3, 101), (1, 102), (-1, 103), (-3, 104), (-5, 105), (-7, 106), (-9, 107), (-11, 108), (-13, 109), (-15, 110), (-17, 111), (-19, 112), (-21, 113), (-23, 114), (-25, 115), (-27, 116), (-29, 117), (-31, 118), (-33, 119), (-35, 120)]\n"
     ]
    }
   ],
   "source": [
    "nums = list(nums_range)\n",
    "print(nums)\n",
    "\n",
    "nomenclature = list(zip(itertools.count(start=5, step = -2), nums))\n",
    "\n",
    "print (nomenclature)"
   ]
  },
  {
   "cell_type": "code",
   "execution_count": 28,
   "metadata": {},
   "outputs": [
    {
     "name": "stdout",
     "output_type": "stream",
     "text": [
      "[(0, 100), (1, 101), (2, 102)]\n",
      "[(0, 100), (1, 101), (2, 102), (None, 103), (None, 104), (None, 105), (None, 106), (None, 107), (None, 108), (None, 109), (None, 110), (None, 111), (None, 112), (None, 113), (None, 114), (None, 115), (None, 116), (None, 117), (None, 118), (None, 119), (None, 120)]\n"
     ]
    }
   ],
   "source": [
    "nomenclature = list(zip(range(3), nums))\n",
    " \"\"\"usefull when i need to top values of a list\"\"\"\n",
    "nomenclature_with_longest = list(itertools.zip_longest(range(3), nums))\n",
    "\n",
    "print (nomenclature)\n",
    "print(nomenclature_with_longest)"
   ]
  },
  {
   "cell_type": "code",
   "execution_count": 30,
   "metadata": {},
   "outputs": [
    {
     "name": "stdout",
     "output_type": "stream",
     "text": [
      "On\n",
      "Off\n",
      "On\n",
      "Off\n",
      "On\n"
     ]
    }
   ],
   "source": [
    "counter  = itertools.cycle(('On', 'Off'))\n",
    "\n",
    "print(next(counter))\n",
    "print(next(counter))\n",
    "print(next(counter))\n",
    "print(next(counter))\n",
    "print(next(counter))"
   ]
  },
  {
   "cell_type": "code",
   "execution_count": 35,
   "metadata": {},
   "outputs": [
    {
     "name": "stdout",
     "output_type": "stream",
     "text": [
      "[0, 1, 4, 9, 16, 25, 36, 49, 64, 81]\n"
     ]
    }
   ],
   "source": [
    "squares = map(pow, range(10), itertools.repeat(2))\n",
    "print(list(squares))"
   ]
  },
  {
   "cell_type": "code",
   "execution_count": 36,
   "metadata": {},
   "outputs": [
    {
     "name": "stdout",
     "output_type": "stream",
     "text": [
      "[(0, 2), (1, 2), (2, 2), (3, 2), (4, 2), (5, 2), (6, 2), (7, 2), (8, 2), (9, 2)]\n"
     ]
    }
   ],
   "source": [
    "squares = \n",
    "print(list(squares))"
   ]
  },
  {
   "cell_type": "code",
   "execution_count": 38,
   "metadata": {},
   "outputs": [
    {
     "name": "stdout",
     "output_type": "stream",
     "text": [
      "[0, 1, 4, 9, 16, 25, 36, 49, 64, 81]\n"
     ]
    }
   ],
   "source": [
    "num_and_power = zip(range(10), itertools.repeat(2))\n",
    "squares = itertools.starmap(pow, num_and_power)\n",
    "print(list(squares))"
   ]
  },
  {
   "cell_type": "markdown",
   "metadata": {},
   "source": [
    "### Convinations and permutations"
   ]
  },
  {
   "cell_type": "code",
   "execution_count": 49,
   "metadata": {},
   "outputs": [
    {
     "name": "stdout",
     "output_type": "stream",
     "text": [
      "[('a', 'b'), ('a', 'c'), ('a', 'd'), ('b', 'c'), ('b', 'd'), ('c', 'd')]\n"
     ]
    }
   ],
   "source": [
    "letters = ['a', 'b', 'c', 'd']\n",
    "numbers = list(range(5))\n",
    "names = ['Pepe', 'Jota']\n",
    "\n",
    "result = itertools.combinations(letters,2)\n",
    "\n",
    "print(list(result))"
   ]
  },
  {
   "cell_type": "markdown",
   "metadata": {},
   "source": [
    "**How to allow repeats in convinations??**"
   ]
  },
  {
   "cell_type": "code",
   "execution_count": 43,
   "metadata": {},
   "outputs": [
    {
     "name": "stdout",
     "output_type": "stream",
     "text": [
      "[('a', 'a'), ('a', 'b'), ('a', 'c'), ('a', 'd'), ('b', 'b'), ('b', 'c'), ('b', 'd'), ('c', 'c'), ('c', 'd'), ('d', 'd')]\n"
     ]
    }
   ],
   "source": [
    "result = itertools.combinations_with_replacement(letters, 2)\n",
    "\n",
    "print(list(result))"
   ]
  },
  {
   "cell_type": "code",
   "execution_count": 41,
   "metadata": {},
   "outputs": [
    {
     "name": "stdout",
     "output_type": "stream",
     "text": [
      "[('a', 'b'), ('a', 'c'), ('a', 'd'), ('b', 'a'), ('b', 'c'), ('b', 'd'), ('c', 'a'), ('c', 'b'), ('c', 'd'), ('d', 'a'), ('d', 'b'), ('d', 'c')]\n"
     ]
    }
   ],
   "source": [
    "result = itertools.permutations(letters,2)\n",
    "\n",
    "print(list(result))"
   ]
  },
  {
   "cell_type": "markdown",
   "metadata": {},
   "source": [
    "**How to allow repeats in permutations??**"
   ]
  },
  {
   "cell_type": "code",
   "execution_count": 42,
   "metadata": {},
   "outputs": [
    {
     "name": "stdout",
     "output_type": "stream",
     "text": [
      "[('a', 'a'), ('a', 'b'), ('a', 'c'), ('a', 'd'), ('b', 'a'), ('b', 'b'), ('b', 'c'), ('b', 'd'), ('c', 'a'), ('c', 'b'), ('c', 'c'), ('c', 'd'), ('d', 'a'), ('d', 'b'), ('d', 'c'), ('d', 'd')]\n"
     ]
    }
   ],
   "source": [
    "result = itertools.product(letters, repeat=2)\n",
    "\n",
    "print(list(result))"
   ]
  },
  {
   "cell_type": "code",
   "execution_count": 50,
   "metadata": {},
   "outputs": [
    {
     "name": "stdout",
     "output_type": "stream",
     "text": [
      "['a', 'b', 'c', 'd', 0, 1, 2, 3, 4, 'Pepe', 'Jota']\n"
     ]
    }
   ],
   "source": [
    "result = itertools.chain(letters, numbers, names)\n",
    "\n",
    "print(list(result))"
   ]
  },
  {
   "cell_type": "code",
   "execution_count": 57,
   "metadata": {},
   "outputs": [
    {
     "name": "stdout",
     "output_type": "stream",
     "text": [
      "[1, 2, 3, 4]\n"
     ]
    }
   ],
   "source": [
    "result = itertools.islice(range(10), 1, 5)\n",
    "\n",
    "print(list(result))"
   ]
  },
  {
   "cell_type": "code",
   "execution_count": 73,
   "metadata": {},
   "outputs": [
    {
     "name": "stdout",
     "output_type": "stream",
     "text": [
      "lslsls\n"
     ]
    }
   ],
   "source": [
    "with open('tester.txt', 'r') as file:\n",
    "    head_from_file = itertools.islice(file, 1)\n",
    "    \n",
    "    print (list(head_from_file)[0], end='')"
   ]
  },
  {
   "cell_type": "code",
   "execution_count": 75,
   "metadata": {},
   "outputs": [
    {
     "name": "stdout",
     "output_type": "stream",
     "text": [
      "['a', 'c']\n"
     ]
    }
   ],
   "source": [
    "selectors= [True,False,True,False,True,False,]\n",
    "\n",
    "result = itertools.compress(letters, selectors)\n",
    "\n",
    "print(list(result))"
   ]
  },
  {
   "cell_type": "code",
   "execution_count": 95,
   "metadata": {},
   "outputs": [
    {
     "name": "stdout",
     "output_type": "stream",
     "text": [
      "[4]\n",
      "[0, 1, 2, 3]\n"
     ]
    }
   ],
   "source": [
    "def minor2(n):\n",
    "    if n > 3:\n",
    "        return n # or True\n",
    "\n",
    "commonuse = filter(minor2, numbers)\n",
    "result = itertools.filterfalse(minor2, numbers)\n",
    "print(list(commonuse))\n",
    "print(list(result))"
   ]
  },
  {
   "cell_type": "code",
   "execution_count": 85,
   "metadata": {},
   "outputs": [
    {
     "name": "stdout",
     "output_type": "stream",
     "text": [
      "[]\n"
     ]
    }
   ],
   "source": [
    "result = itertools.takewhile(minor2, numbers)\n",
    "\n",
    "print(list(result))"
   ]
  },
  {
   "cell_type": "code",
   "execution_count": 96,
   "metadata": {},
   "outputs": [
    {
     "name": "stdout",
     "output_type": "stream",
     "text": [
      "[0, 1, 3, 6, 10]\n"
     ]
    }
   ],
   "source": [
    "# puedes pasarle un operador (numbers, operator(o funcion , metodo))\n",
    "result = itertools.accumulate(numbers) \n",
    "\n",
    "print(list(result))"
   ]
  },
  {
   "cell_type": "code",
   "execution_count": null,
   "metadata": {},
   "outputs": [],
   "source": []
  }
 ],
 "metadata": {
  "kernelspec": {
   "display_name": "Python 3",
   "language": "python",
   "name": "python3"
  },
  "language_info": {
   "codemirror_mode": {
    "name": "ipython",
    "version": 3
   },
   "file_extension": ".py",
   "mimetype": "text/x-python",
   "name": "python",
   "nbconvert_exporter": "python",
   "pygments_lexer": "ipython3",
   "version": "3.7.6"
  }
 },
 "nbformat": 4,
 "nbformat_minor": 4
}
