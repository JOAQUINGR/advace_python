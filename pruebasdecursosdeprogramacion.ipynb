{
 "cells": [
  {
   "cell_type": "markdown",
   "metadata": {},
   "source": [
    "# Decoradores"
   ]
  },
  {
   "cell_type": "code",
   "execution_count": 2,
   "metadata": {},
   "outputs": [
    {
     "name": "stdout",
     "output_type": "stream",
     "text": [
      "esto es extra\n",
      "27\n",
      "otro extra\n",
      "esto es extra\n",
      "2\n",
      "otro extra\n"
     ]
    }
   ],
   "source": [
    "\"\"\"decorador: funcion que añade funciones a otras funciones , le añade decoradores \n",
    "\n",
    "don 3 funciones una funcion que devuelve a otra funcion, \"\"\"\n",
    "\n",
    "def funcion_dec(funcion_parametro):\n",
    "    \n",
    "    def funcion_interior():\n",
    "        \n",
    "        print(\"esto es extra\")\n",
    "        \n",
    "        funcion_parametro()\n",
    "        \n",
    "        print(\"otro extra\")\n",
    "        \n",
    "    return funcion_interior\n",
    "\n",
    "@funcion_dec\n",
    "def suma():\n",
    "    print(15+12)\n",
    "    \n",
    "@funcion_dec\n",
    "def resta():\n",
    "    print(4-2)\n",
    "\n",
    "suma()\n",
    "resta()"
   ]
  },
  {
   "cell_type": "markdown",
   "metadata": {},
   "source": [
    "# Iterators"
   ]
  },
  {
   "cell_type": "code",
   "execution_count": 15,
   "metadata": {},
   "outputs": [
    {
     "name": "stdout",
     "output_type": "stream",
     "text": [
      "1\n",
      "['__class__', '__delattr__', '__dir__', '__doc__', '__eq__', '__format__', '__ge__', '__getattribute__', '__gt__', '__hash__', '__init__', '__init_subclass__', '__iter__', '__le__', '__length_hint__', '__lt__', '__ne__', '__new__', '__next__', '__reduce__', '__reduce_ex__', '__repr__', '__setattr__', '__setstate__', '__sizeof__', '__str__', '__subclasshook__']\n"
     ]
    }
   ],
   "source": [
    "nums = [1,2,3]\n",
    "\n",
    "i_nums = iter(nums)\n",
    "\n",
    "print(next(i_nums))\n",
    "print(dir(i_nums))\n"
   ]
  },
  {
   "cell_type": "code",
   "execution_count": 38,
   "metadata": {},
   "outputs": [],
   "source": [
    "class Myrange:\n",
    "    \n",
    "    def __init__(self, start, end):\n",
    "        self.value = start\n",
    "        self.end = end \n",
    "        \n",
    "    def __iter__(self):\n",
    "        return self\n",
    "    \n",
    "    def __next__(self):\n",
    "        current = 0\n",
    "        if self.value > self.end:\n",
    "            raise StopIteration\n",
    "        current += self.value\n",
    "        self.value += 1\n",
    "        return current\n",
    "    \n",
    "hey = Myrange(1,10)\n",
    "\n",
    "for i in hey:\n",
    "    print(i)\n",
    "\n",
    "        "
   ]
  },
  {
   "cell_type": "markdown",
   "metadata": {},
   "source": [
    "# Itertools package"
   ]
  },
  {
   "cell_type": "code",
   "execution_count": null,
   "metadata": {},
   "outputs": [],
   "source": []
  }
 ],
 "metadata": {
  "kernelspec": {
   "display_name": "Python 3",
   "language": "python",
   "name": "python3"
  },
  "language_info": {
   "codemirror_mode": {
    "name": "ipython",
    "version": 3
   },
   "file_extension": ".py",
   "mimetype": "text/x-python",
   "name": "python",
   "nbconvert_exporter": "python",
   "pygments_lexer": "ipython3",
   "version": "3.6.9"
  }
 },
 "nbformat": 4,
 "nbformat_minor": 4
}
